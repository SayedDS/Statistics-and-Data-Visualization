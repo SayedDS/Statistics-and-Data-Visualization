{
 "cells": [
  {
   "cell_type": "markdown",
   "id": "10373b6d-660d-461e-8201-ea222614876d",
   "metadata": {},
   "source": [
    "# Analyzing Stock Returns with Python\n",
    "\n",
    "This project analyzes the daily returns of two stocks (Tesla and Apple) over 30 days. \n",
    "\n",
    "Key objectives include:\n",
    "- Calculating descriptive statistics (mean, variance, etc.).\n",
    "- Analyzing relationships (covariance and correlation).\n",
    "- Visualizing trends and relationships."
   ]
  },
  {
   "cell_type": "markdown",
   "id": "ebea0179-d16c-4f16-ba87-77db8f98d5ca",
   "metadata": {},
   "source": [
    "# Dataset description\n",
    "The dataset consists of:\n",
    "- **Date**: Trading days.\n",
    "- **Stock_A**: Simulated stock prices for Tesla.\n",
    "- **Stock_B**: Simulated stock prices for Apple."
   ]
  },
  {
   "cell_type": "markdown",
   "id": "c3a927c0-a214-4914-8873-224ccf40426c",
   "metadata": {},
   "source": [
    "## step 1: Import essential libraries for the project. "
   ]
  },
  {
   "cell_type": "code",
   "execution_count": null,
   "id": "4074c476-c593-4b35-9bb9-0511a77cda14",
   "metadata": {},
   "outputs": [],
   "source": [
    "import pandas as pd # it's a library work for tabular data like (spreadsheets). it's essential for data manipulation \n",
    "import numpy as np #  Used for numerical calculations and generating random numbers \n",
    "import matplotlib.pyplot as plt # For creating visualizations like line plots.\n",
    "import seaborn as sns #it’s used for more advanced and prettier plots like scatter plots."
   ]
  },
  {
   "cell_type": "markdown",
   "id": "f3ae7d1f-9cd8-48f2-8304-9933edfa704f",
   "metadata": {},
   "source": [
    "## Step 2: Simulating the stocks data \n",
    "explanation of the code below \n",
    "\n",
    "*np is the shortcut we set for numpy library*\n",
    "*we use*"
   ]
  },
  {
   "cell_type": "code",
   "execution_count": null,
   "id": "704e69e7-f3d8-4d04-97e9-0fb3a7e9cf2f",
   "metadata": {},
   "outputs": [],
   "source": [
    "np.random.seed(42) \n",
    "dates = pd.date_range('2023-01-01', periods=30)\n",
    "stock_a = np.random.normal(100, 5, size=30).cumsum()  # Stock A Prices\n",
    "stock_b = np.random.normal(100, 8, size=30).cumsum()  # Stock B Prices\n",
    "data = pd.DataFrame({'Date': dates, 'Stock_A': stock_a, 'Stock_B': stock_b})\n",
    "data.set_index('Date', inplace=True)\n"
   ]
  },
  {
   "cell_type": "code",
   "execution_count": null,
   "id": "f5c61775-bde4-4cc0-abcb-ec3a2351dd2a",
   "metadata": {},
   "outputs": [],
   "source": []
  }
 ],
 "metadata": {
  "kernelspec": {
   "display_name": "Python 3 (ipykernel)",
   "language": "python",
   "name": "python3"
  },
  "language_info": {
   "codemirror_mode": {
    "name": "ipython",
    "version": 3
   },
   "file_extension": ".py",
   "mimetype": "text/x-python",
   "name": "python",
   "nbconvert_exporter": "python",
   "pygments_lexer": "ipython3",
   "version": "3.12.4"
  }
 },
 "nbformat": 4,
 "nbformat_minor": 5
}
